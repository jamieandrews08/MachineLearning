{
 "cells": [
  {
   "cell_type": "code",
   "execution_count": null,
   "metadata": {
    "collapsed": true
   },
   "outputs": [],
   "source": [
    "\"\"\"\n",
    "Edited to fit needs of my data & analysis\n",
    "Jamie Andrews\n",
    "Feb 3 2019\n",
    "\n",
    "\"\"\"\n",
    "\"\"\"\n",
    "Created on Fri Jan 20 13:55:38 2017\n",
    "@author: JTay\n",
    "\"\"\"\n",
    "import numpy as np\n",
    "from time import clock\n",
    "import sklearn.model_selection as ms\n",
    "import pandas as pd\n",
    "from collections import defaultdict\n",
    "from sklearn.metrics import make_scorer, accuracy_score\n",
    "from sklearn.utils import compute_sample_weight\n",
    "from sklearn.tree import DecisionTreeClassifier as dtclf\n",
    "\n",
    "\n",
    "def balanced_accuracy(truth,pred):\n",
    "    wts = compute_sample_weight('balanced',truth)\n",
    "    return accuracy_score(truth,pred,sample_weight=wts)\n",
    "\n",
    "scorer = make_scorer(balanced_accuracy)    \n",
    "    \n",
    "def basicResults_wine(clfObj,trgX,trgY,tstX,tstY,params,clf_type=None,dataset=None):\n",
    "    np.random.seed(55)\n",
    "    if clf_type is None or dataset is None:\n",
    "        raise\n",
    "    # cv set to 3 for wine data to insure n is suffciently large with each cross cut\n",
    "    cv = ms.GridSearchCV(clfObj,n_jobs=1,param_grid=params,refit=True,verbose=10,cv=3,scoring=scorer)\n",
    "    cv.fit(trgX,trgY)\n",
    "    regTable = pd.DataFrame(cv.cv_results_)\n",
    "    regTable.to_csv('./output/{}_{}_reg.csv'.format(clf_type,dataset),index=False)\n",
    "    test_score = cv.score(tstX,tstY)\n",
    "    with open('./output/test results.csv','a') as f:\n",
    "        f.write('{},{},{},{}\\n'.format(clf_type,dataset,test_score,cv.best_params_))    \n",
    "    N = trgY.shape[0]    \n",
    "    curve = ms.learning_curve(cv.best_estimator_,trgX,trgY,cv=3,\n",
    "                              train_sizes=[100,250]+[int(N*x/10) for x in range(1,7)],verbose=10,scoring=scorer)\n",
    "    curve_train_scores = pd.DataFrame(index = curve[0],data = curve[1])\n",
    "    curve_test_scores  = pd.DataFrame(index = curve[0],data = curve[2])\n",
    "    curve_train_scores.to_csv('./output/{}_{}_LC_train.csv'.format(clf_type,dataset))\n",
    "    curve_test_scores.to_csv('./output/{}_{}_LC_test.csv'.format(clf_type,dataset))\n",
    "    return cv\n",
    "\n",
    "def basicResults_credit(clfObj,trgX,trgY,tstX,tstY,params,clf_type=None,dataset=None):\n",
    "    np.random.seed(55)\n",
    "    if clf_type is None or dataset is None:\n",
    "        raise\n",
    "    # cv =5 for credit data bc there is more data to sample from\n",
    "    cv = ms.GridSearchCV(clfObj,n_jobs=1,param_grid=params,refit=True,verbose=10,cv=5,scoring=scorer)\n",
    "    cv.fit(trgX,trgY)\n",
    "    regTable = pd.DataFrame(cv.cv_results_)\n",
    "    regTable.to_csv('./output/{}_{}_reg.csv'.format(clf_type,dataset),index=False)\n",
    "    test_score = cv.score(tstX,tstY)\n",
    "    with open('./output/test results.csv','a') as f:\n",
    "        f.write('{},{},{},{}\\n'.format(clf_type,dataset,test_score,cv.best_params_))    \n",
    "    N = trgY.shape[0]    \n",
    "    curve = ms.learning_curve(cv.best_estimator_,trgX,trgY,cv=5,\n",
    "                              train_sizes=[250,500,1000]+[int(N*x/10) for x in range(1,7)],verbose=10,scoring=scorer)\n",
    "    curve_train_scores = pd.DataFrame(index = curve[0],data = curve[1])\n",
    "    curve_test_scores  = pd.DataFrame(index = curve[0],data = curve[2])\n",
    "    curve_train_scores.to_csv('./output/{}_{}_LC_train.csv'.format(clf_type,dataset))\n",
    "    curve_test_scores.to_csv('./output/{}_{}_LC_test.csv'.format(clf_type,dataset))\n",
    "    return cv\n",
    "    \n",
    "def iterationLC_wine(clfObj,trgX,trgY,tstX,tstY,params,clf_type=None,dataset=None):\n",
    "    np.random.seed(55)\n",
    "    if clf_type is None or dataset is None:\n",
    "        raise\n",
    "    cv = ms.GridSearchCV(clfObj,n_jobs=1,param_grid=params,refit=True,verbose=10,cv=3,scoring=scorer)\n",
    "    cv.fit(trgX,trgY)\n",
    "    regTable = pd.DataFrame(cv.cv_results_)\n",
    "    regTable.to_csv('./output/ITER_base_{}_{}.csv'.format(clf_type,dataset),index=False)\n",
    "    d = defaultdict(list)\n",
    "    name = list(params.keys())[0]\n",
    "    for value in list(params.values())[0]:        \n",
    "        d['param_{}'.format(name)].append(value)\n",
    "        clfObj.set_params(**{name:value})\n",
    "        clfObj.fit(trgX,trgY)\n",
    "        pred = clfObj.predict(trgX)\n",
    "        d['train acc'].append(balanced_accuracy(trgY,pred))\n",
    "        clfObj.fit(trgX,trgY)\n",
    "        pred = clfObj.predict(tstX)\n",
    "        d['test acc'].append(balanced_accuracy(tstY,pred))\n",
    "        print(value)\n",
    "    d = pd.DataFrame(d)\n",
    "    d.to_csv('./output/ITERtestSET_{}_{}.csv'.format(clf_type,dataset),index=False)\n",
    "    return cv    \n",
    "\n",
    "def iterationLC_credit(clfObj,trgX,trgY,tstX,tstY,params,clf_type=None,dataset=None):\n",
    "    np.random.seed(55)\n",
    "    if clf_type is None or dataset is None:\n",
    "        raise\n",
    "    cv = ms.GridSearchCV(clfObj,n_jobs=1,param_grid=params,refit=True,verbose=10,cv=5,scoring=scorer)\n",
    "    cv.fit(trgX,trgY)\n",
    "    regTable = pd.DataFrame(cv.cv_results_)\n",
    "    regTable.to_csv('./output/ITER_base_{}_{}.csv'.format(clf_type,dataset),index=False)\n",
    "    d = defaultdict(list)\n",
    "    name = list(params.keys())[0]\n",
    "    for value in list(params.values())[0]:        \n",
    "        d['param_{}'.format(name)].append(value)\n",
    "        clfObj.set_params(**{name:value})\n",
    "        clfObj.fit(trgX,trgY)\n",
    "        pred = clfObj.predict(trgX)\n",
    "        d['train acc'].append(balanced_accuracy(trgY,pred))\n",
    "        clfObj.fit(trgX,trgY)\n",
    "        pred = clfObj.predict(tstX)\n",
    "        d['test acc'].append(balanced_accuracy(tstY,pred))\n",
    "        print(value)\n",
    "    d = pd.DataFrame(d)\n",
    "    d.to_csv('./output/ITERtestSET_{}_{}.csv'.format(clf_type,dataset),index=False)\n",
    "    return cv    \n",
    "    \n",
    "def add_noise(y,frac=0.1):\n",
    "    np.random.seed(456)\n",
    "    n = y.shape[0]\n",
    "    sz = int(n*frac)\n",
    "    ind = np.random.choice(np.arange(n),size=sz,replace=False)\n",
    "    tmp = y.copy()\n",
    "    tmp[ind] = 1-tmp[ind]\n",
    "    return tmp\n",
    "    \n",
    "    \n",
    "def makeTimingCurve(X,Y,clf,clfName,dataset):\n",
    "    out = defaultdict(dict)\n",
    "    for frac in [0.1,0.2,0.3,0.4,0.5,0.6,0.7,0.8,0.9]:    \n",
    "        X_train, X_test, y_train, y_test = ms.train_test_split(X, Y, test_size=frac, random_state=42)\n",
    "        st = clock()\n",
    "        np.random.seed(55)\n",
    "        clf.fit(X_train,y_train)\n",
    "        out['train'][frac]= clock()-st\n",
    "        st = clock()\n",
    "        clf.predict(X_test)\n",
    "        out['test'][frac]= clock()-st\n",
    "        print(clfName,dataset,frac)\n",
    "    out = pd.DataFrame(out)\n",
    "    out.to_csv('./output/{}_{}_timing.csv'.format(clfName,dataset))\n",
    "    return \n"
   ]
  },
  {
   "cell_type": "code",
   "execution_count": null,
   "metadata": {
    "collapsed": true
   },
   "outputs": [],
   "source": [
    "# %load ANN.py\n",
    "\"\"\"\n",
    "Created on Fri Jan 20 14:23:40 2017\n",
    "@author: JTay\n",
    "\"\"\"\n",
    "\n",
    "import numpy as np\n",
    "from sklearn.neural_network import MLPClassifier\n",
    "import sklearn.model_selection as ms\n",
    "import pandas as pd\n",
    "from helpers_jamie import  basicResults_wine,makeTimingCurve,iterationLC_wine, iterationLC_credit, basicResults_credit\n",
    "from sklearn.pipeline import Pipeline\n",
    "from sklearn.preprocessing import StandardScaler\n",
    "from sklearn.ensemble import RandomForestClassifier\n",
    "from sklearn.feature_selection import SelectFromModel\n",
    "\n",
    "# for assignment 2\n",
    "\n",
    "import sklearn\n",
    "import numpy as np\n",
    "import mlrose as ml\n",
    "import sklearn.model_selection as ms\n",
    "\n"
   ]
  },
  {
   "cell_type": "code",
   "execution_count": null,
   "metadata": {
    "collapsed": true
   },
   "outputs": [],
   "source": [
    "# GET THE DATA ============\n",
    "\n",
    "# wine data\n",
    "file_path =\"./data/\"\n",
    "wine = pd.read_csv (file_path+'wines.csv', sep =\",\")\n",
    "# credit data\n",
    "file_path2 =\"./data/\"\n",
    "credit = pd.read_csv (file_path2+'credit.csv', sep =\",\")\n",
    "\n",
    "# Break out predicting and target variable data    \n",
    "wineX = wine.drop('quality',1).copy().values\n",
    "wineY = wine['quality'].copy().values\n",
    "\n",
    "creditX = credit.drop('default',1).copy().values\n",
    "creditY = credit['default'].copy().values\n",
    "\n"
   ]
  },
  {
   "cell_type": "code",
   "execution_count": null,
   "metadata": {
    "collapsed": true
   },
   "outputs": [],
   "source": [
    "# DIVIDE INTO TRAIN AND TEST SETS  \n",
    "wine_trgX, wine_tstX, wine_trgY, wine_tstY = ms.train_test_split(\n",
    "    wineX, wineY, test_size=0.3, random_state=0,stratify=wineY)     \n",
    "\n",
    "credit_trgX, credit_tstX, credit_trgY, credit_tstY = ms.train_test_split(\n",
    "    creditX, creditY, test_size=0.3, random_state=0,stratify=creditY)   \n"
   ]
  },
  {
   "cell_type": "code",
   "execution_count": null,
   "metadata": {
    "collapsed": true
   },
   "outputs": [],
   "source": [
    "#check the data\n",
    "creditX.shape, creditY.shape, wineX.shape, wineY.shape"
   ]
  },
  {
   "cell_type": "code",
   "execution_count": null,
   "metadata": {
    "collapsed": true
   },
   "outputs": [],
   "source": [
    "# build the pipelines\n",
    "\n",
    "pipeC = Pipeline([('Scale',StandardScaler()),\n",
    "                 ('MLP',MLPClassifier(max_iter=2000,early_stopping=True,random_state=55))])\n",
    "\n",
    "pipeW = Pipeline([('Scale',StandardScaler()),\n",
    "                  ('Hill Climb',SelectFromModel(RandomForestClassifier(random_state=1),threshold='median')),\n",
    "#                  ('Cull2',SelectFromModel(RandomForestClassifier(random_state=2),threshold='median')),\n",
    "#                  ('Cull3',SelectFromModel(RandomForestClassifier(random_state=3),threshold='median')),\n",
    "#                  ('Cull4',SelectFromModel(RandomForestClassifier(random_state=4),threshold='median')),\n",
    "                 ('MLP',MLPClassifier(max_iter=2000,early_stopping=True,random_state=55))])\n",
    "\n",
    "\n"
   ]
  },
  {
   "cell_type": "code",
   "execution_count": null,
   "metadata": {
    "collapsed": true
   },
   "outputs": [],
   "source": [
    "# find paramter values to iterate thru\n",
    "alphas = [10**-x for x in np.arange(-1,5.01,1/2)]\n",
    "d = creditX.shape[1]\n",
    "hiddens_credit = [(h,)*l for l in [1,2,3] for h in [d,d//2,d*2]]\n",
    "\n",
    "\n",
    "alphasW = [10**-x for x in np.arange(-1,9.01,1/2)]\n",
    "dw = wineX.shape[1]\n",
    "hiddens_wine = [(h,)*l for l in [1,2,3] for h in [dw,dw//2,round(dw/4),dw*2]]\n",
    "\n",
    "\n",
    "params_credit = {'MLP__activation':['relu','logistic'],'MLP__alpha':alphas,'MLP__hidden_layer_sizes':hiddens_credit}\n",
    "params_wine = {'MLP__activation':['relu','logistic'],'MLP__alpha':alphasW,'MLP__hidden_layer_sizes':hiddens_wine}\n",
    "\n"
   ]
  },
  {
   "cell_type": "code",
   "execution_count": null,
   "metadata": {
    "collapsed": true
   },
   "outputs": [],
   "source": [
    "dw = wineX.shape[1]\n",
    "#dw = dw//(2**4)\n",
    "dw\n",
    "hiddens_wine = [(h,)*l for l in [1,2,3] for h in [dw,dw//2,round(dw/4),dw*2]]\n",
    "hiddens_wine\n",
    "dw//(2**4)\n",
    "hiddens_credit, hiddens_wine"
   ]
  },
  {
   "cell_type": "code",
   "execution_count": null,
   "metadata": {
    "collapsed": true
   },
   "outputs": [],
   "source": [
    "# fit models with different paramter values to find best fit\n",
    "#wine\n",
    "wine_clf = basicResults_wine(pipeW,wine_trgX,wine_trgY,wine_tstX,wine_tstY,params_wine,'ANN','wine')  \n",
    " \n",
    "\n",
    "\n"
   ]
  },
  {
   "cell_type": "code",
   "execution_count": null,
   "metadata": {
    "collapsed": true
   },
   "outputs": [],
   "source": [
    "# credit\n",
    "credit_clf = basicResults_credit(pipeC,credit_trgX,credit_trgY,credit_tstX,credit_tstY,params_credit,'ANN','credit')       "
   ]
  },
  {
   "cell_type": "code",
   "execution_count": null,
   "metadata": {
    "collapsed": true
   },
   "outputs": [],
   "source": [
    "# define final params\n",
    "wine_final_params = wine_clf.best_params_\n",
    "credit_final_params =credit_clf.best_params_"
   ]
  },
  {
   "cell_type": "code",
   "execution_count": null,
   "metadata": {
    "collapsed": true
   },
   "outputs": [],
   "source": [
    "print(wine_final_params, credit_final_params )"
   ]
  },
  {
   "cell_type": "code",
   "execution_count": null,
   "metadata": {
    "collapsed": true
   },
   "outputs": [],
   "source": [
    "# update OF params with alphas from Final(?) Params(?)\n",
    "\n",
    "credit_OF_params =credit_final_params.copy()\n",
    "credit_OF_params['MLP__alpha'] = 0\n",
    "wine_OF_params =wine_final_params.copy()\n",
    "wine_OF_params['MLP__alpha'] = 0\n",
    "\n",
    "#wine_final_params = {'MLP__hidden_layer_sizes': (500,), 'MLP__activation': 'logistic', 'MLP__alpha': 10.0}\n",
    "#credit_final_params ={'MLP__hidden_layer_sizes': (28, 28, 28), 'MLP__activation': 'logistic', 'MLP__alpha': 0.0031622776601683794}\n",
    "\n"
   ]
  },
  {
   "cell_type": "code",
   "execution_count": null,
   "metadata": {
    "collapsed": true
   },
   "outputs": [],
   "source": [
    "# Timing Curve - wine\n",
    "pipeW.set_params(**wine_final_params)  \n",
    "pipeW.set_params(**{'MLP__early_stopping':False})                   \n",
    "makeTimingCurve(wineX,wineY,pipeW,'ANN','wine')"
   ]
  },
  {
   "cell_type": "code",
   "execution_count": null,
   "metadata": {
    "collapsed": true
   },
   "outputs": [],
   "source": [
    "# Timing Curve - credit\n",
    "pipeC.set_params(**credit_final_params)\n",
    "pipeC.set_params(**{'MLP__early_stopping':False})                  \n",
    "makeTimingCurve(creditX,creditY,pipeC,'ANN','credit')"
   ]
  },
  {
   "cell_type": "code",
   "execution_count": null,
   "metadata": {
    "collapsed": true
   },
   "outputs": [],
   "source": [
    "# Learning Curve - wine\n",
    "pipeW.set_params(**wine_final_params)\n",
    "pipeW.set_params(**{'MLP__early_stopping':False})               \n",
    "iterationLC_wine(pipeW,wine_trgX,wine_trgY,wine_tstX,wine_tstY,\n",
    "            {'MLP__max_iter':[2**x for x in range(12)]+[2100,2200,2300,2400,2500,2600,2700,2800,2900,3000]},'ANN','wine')    "
   ]
  },
  {
   "cell_type": "code",
   "execution_count": null,
   "metadata": {
    "collapsed": true
   },
   "outputs": [],
   "source": [
    "# Learning Curve - credit\n",
    "pipeC.set_params(**credit_final_params)\n",
    "pipeC.set_params(**{'MLP__early_stopping':False})                  \n",
    "iterationLC_credit(pipeC,credit_trgX,credit_trgY,credit_tstX,credit_tstY,{'MLP__max_iter':[2**x for x in range(12)]+[2100,2200,2300,2400,2500,2600,2700,2800,2900,3000]},'ANN','credit')                \n"
   ]
  },
  {
   "cell_type": "code",
   "execution_count": null,
   "metadata": {
    "collapsed": true
   },
   "outputs": [],
   "source": [
    "# Learning Curve of OF Params - wine\n",
    "pipeW.set_params(**wine_OF_params)\n",
    "pipeW.set_params(**{'MLP__early_stopping':False})                  \n",
    "iterationLC_wine(pipeW,wine_trgX,wine_trgY,wine_tstX,wine_tstY,{'MLP__max_iter':[2**x for x in range(12)]+[2100,2200,2300,2400,2500,2600,2700,2800,2900,3000]},'ANN_OF','wine')        \n",
    "\n"
   ]
  },
  {
   "cell_type": "code",
   "execution_count": null,
   "metadata": {
    "collapsed": true
   },
   "outputs": [],
   "source": [
    "# Learning Curve of OF params - \n",
    "pipeC.set_params(**credit_OF_params)\n",
    "pipeC.set_params(**{'MLP__early_stopping':False})               \n",
    "iterationLC_credit(pipeC,credit_trgX,credit_trgY,credit_tstX,credit_tstY,{'MLP__max_iter':[2**x for x in range(12)]+[2100,2200,2300,2400,2500,2600,2700,2800,2900,3000]},'ANN_OF','credit')                \n"
   ]
  },
  {
   "cell_type": "code",
   "execution_count": null,
   "metadata": {
    "collapsed": true
   },
   "outputs": [],
   "source": []
  },
  {
   "cell_type": "code",
   "execution_count": null,
   "metadata": {
    "collapsed": true
   },
   "outputs": [],
   "source": []
  },
  {
   "cell_type": "code",
   "execution_count": null,
   "metadata": {
    "collapsed": true
   },
   "outputs": [],
   "source": []
  },
  {
   "cell_type": "code",
   "execution_count": null,
   "metadata": {
    "collapsed": true
   },
   "outputs": [],
   "source": []
  },
  {
   "cell_type": "code",
   "execution_count": null,
   "metadata": {
    "collapsed": true
   },
   "outputs": [],
   "source": []
  },
  {
   "cell_type": "code",
   "execution_count": null,
   "metadata": {
    "collapsed": true
   },
   "outputs": [],
   "source": []
  },
  {
   "cell_type": "code",
   "execution_count": null,
   "metadata": {
    "collapsed": true
   },
   "outputs": [],
   "source": []
  },
  {
   "cell_type": "code",
   "execution_count": null,
   "metadata": {
    "collapsed": true
   },
   "outputs": [],
   "source": []
  }
 ],
 "metadata": {
  "kernelspec": {
   "display_name": "Python 3",
   "language": "python",
   "name": "python3"
  },
  "language_info": {
   "codemirror_mode": {
    "name": "ipython",
    "version": 3
   },
   "file_extension": ".py",
   "mimetype": "text/x-python",
   "name": "python",
   "nbconvert_exporter": "python",
   "pygments_lexer": "ipython3",
   "version": "3.6.8"
  }
 },
 "nbformat": 4,
 "nbformat_minor": 2
}
