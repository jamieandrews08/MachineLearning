{
 "cells": [
  {
   "cell_type": "code",
   "execution_count": null,
   "metadata": {
    "collapsed": true
   },
   "outputs": [],
   "source": [
    "import pandas as pd\n",
    "import numpy as np\n",
    "import mlrose \n",
    "from collections import defaultdict\n",
    "from time import clock\n",
    "from itertools import combinations\n",
    "import itertools"
   ]
  },
  {
   "cell_type": "code",
   "execution_count": null,
   "metadata": {
    "collapsed": true
   },
   "outputs": [],
   "source": [
    "# set up for TSP for problem 1 - Traveling Salesman\n",
    "# SOURCE: https://mlrose.readthedocs.io/en/stable/source/tutorial2.html\n",
    "\n",
    "# Create list of city coordinates\n",
    "coords_list = [(1, 1), (4, 2), (5, 2), (6, 4), (4, 4), (3, 6), (1, 5), (2, 3)]\n",
    "\n",
    "# Initialize fitness function object using coords_list\n",
    "fitness_coords = mlrose.TravellingSales(coords = coords_list)\n",
    "\n"
   ]
  },
  {
   "cell_type": "code",
   "execution_count": null,
   "metadata": {},
   "outputs": [],
   "source": [
    "# Set up for Problem 3 - Knapsack:\n",
    "\n",
    "#import random\n",
    "# generate list of random numbers for weights and values\n",
    "random.seed(42)\n",
    "weights = [10, 5, 2, 8, 15]\n",
    "values = [1, 2, 3, 4, 5]\n",
    "max_weight_pct = 0.6\n",
    "fitness3 = mlrose.Knapsack(weights, values, max_weight_pct)\n",
    "# round weights to two decimal places\n"
   ]
  },
  {
   "cell_type": "code",
   "execution_count": null,
   "metadata": {
    "collapsed": true
   },
   "outputs": [],
   "source": [
    "#define a fitness function for each problem\n",
    "fitness1 = mlrose.FourPeaks(t_pct=0.1)\n",
    "fitness3 = mlrose.Knapsack(weights, values, max_weight_pct)\n",
    "#fitness2 = mlrose.OneMax()\n",
    "#fitness3 = mlrose.Queens()\n",
    "\n",
    "# define the problems\n",
    "# 8-bit string where each string can have up to 8 values (0-7)\n",
    "problem1 = mlrose.TSPOpt(length = 8, fitness_fn = fitness_coords, maximize=True)\n",
    "problem2 = mlrose.DiscreteOpt(length = 8, fitness_fn = fitness3, maximize = True, max_val = 8)\n",
    "problem3 = mlrose.DiscreteOpt(length = 5, fitness_fn = fitness2, maximize = True, max_val = 3)\n",
    "\n",
    "\n"
   ]
  },
  {
   "cell_type": "code",
   "execution_count": null,
   "metadata": {
    "collapsed": true
   },
   "outputs": [],
   "source": [
    "# Define decay schedules (these have default parameter values)\n",
    "exp_schedule = mlrose.ExpDecay(init_temp=1.0, exp_const=0.005, min_temp=0.001)\n",
    "geom_schedule = mlrose.GeomDecay(init_temp = 1.0, decay=0.99, min_temp=0.001)\n",
    "arith_schedule = mlrose.ArithDecay(init_temp = 1.0, decay=0.0001, min_temp=0.001)"
   ]
  },
  {
   "cell_type": "code",
   "execution_count": null,
   "metadata": {
    "collapsed": true
   },
   "outputs": [],
   "source": [
    "#def get_params(problem):\n",
    "\n",
    "RHC_paramdict = { #'problem': problem,\n",
    "                 'max_attempts': [5, 10, 20, 50, 100], \n",
    "                 'max_iters':[20, 50, 100, 300, 500, 1000, 1500, 2000],\n",
    "                 'restarts': [1, 5, 10, 20, 50],\n",
    "                 #'init_state': None\n",
    "                 }\n",
    "\n",
    "SA_paramdict = {#'problem': problem ,\n",
    "                'schedule': [exp_schedule, geom_schedule, arith_schedule]  ,\n",
    "                 'max_attempts': [5, 10, 20, 50, 75, 100], \n",
    "                 'max_iters':[20, 50, 100, 300, 500, 1000, 1500, 2000],\n",
    "                 #'init_state':None\n",
    "                 }\n",
    "\n",
    "GA_paramdict = { #'problem': problem ,\n",
    "                'pop_size': [50, 100, 200, 500] , \n",
    "                'mutation_prob': [0.1, 0.3, 0.5, 0.7, 0.9], \n",
    "                'max_attempts': [5, 10, 20],   \n",
    "                'max_iters':[50, 100, 500, 1000, 1500]\n",
    "                 }\n",
    "\n",
    "#testing fewer parameters for mimic due to run time constraints\n",
    "MIMIC_paramdict = {#'problem': problem ,\n",
    "                'pop_size': [100, 200, 500] ,   # 200 is default\n",
    "                'keep_pct': [0.1, 0.2, 0.4, 0.8],    # 0.2 is default\n",
    "                'max_attempts': [5, 10, 50, 100],    # 10 is default\n",
    "                'max_iters':[50, 100, 300, 1000]      # default is inf\n",
    "                 }\n",
    "    "
   ]
  },
  {
   "cell_type": "code",
   "execution_count": null,
   "metadata": {
    "collapsed": true
   },
   "outputs": [],
   "source": [
    "# Iterate thru different parameters of RHC and record fitness values\n",
    "\n",
    "def run_experiments(algorithm, problem, problem_name):\n",
    "    print(\"algorithm =\", algorithm)\n",
    "    print(problem)\n",
    "    print(problem_name)\n",
    "    \n",
    "    if algorithm=='RHC':\n",
    "        paramdict = RHC_paramdict.copy()\n",
    "    if algorithm=='SA':\n",
    "        paramdict = SA_paramdict.copy()\n",
    "    if algorithm=='GA':\n",
    "        paramdict = GA_paramdict.copy()\n",
    "    if algorithm=='MIMIC':\n",
    "        paramdict = MIMIC_paramdict.copy()\n",
    "\n",
    "    # get all the different combinations of parameters\n",
    "    keys, values = zip(*paramdict.items())\n",
    "    params = [dict(zip(keys, v)) for v in itertools.product(*values)]\n",
    "    \n",
    "    Opt_list = []\n",
    "    i=0\n",
    "    while i in range (0, len(params)):\n",
    "                    prob = problem\n",
    "#                     attempts = params[i]['max_attempts']\n",
    "#                     iters = params[i]['max_iters']\n",
    "#                     restarts = params[i]['restarts']\n",
    "                    #initial = params[i]['init_state']\n",
    "                    \n",
    "                    keyword_args = params[i] \n",
    "                    \n",
    "                    print('Now running experiment {} of {}...'.format(i,len(params)))\n",
    "\n",
    "                    # Set random seed\n",
    "                    np.random.seed(42) # bc 42 is the meaning of life\n",
    "\n",
    "                    # start the clock - training\n",
    "                    st = clock()\n",
    "                    \n",
    "                    if algorithm=='RHC':\n",
    "                        best_state, best_fitness = mlrose.random_hill_climb(**keyword_args, problem=prob)\n",
    "                    if algorithm=='SA':\n",
    "                        best_state, best_fitness = mlrose.simulated_annealing(**keyword_args, problem=prob)\n",
    "                    if algorithm=='GA':\n",
    "                        best_state, best_fitness = mlrose.genetic_alg(**keyword_args, problem=prob)\n",
    "                    if algorithm=='MIMIC':\n",
    "                        best_state, best_fitness = mlrose.mimic(**keyword_args, problem=prob)\n",
    "                    \n",
    "                    # stop train time, save time elapsed\n",
    "                    solve_time = clock()-st\n",
    "                    \n",
    "#                     print('Best State of experiment {} is {}'.format(i,best_state))\n",
    "#                     print('Best Fitness of experiment {} is {}'.format(i,best_fitness))\n",
    "                    print('Time to solve = {}'.format(solve_time))\n",
    "                    print('--------')\n",
    "\n",
    "                    results = [i, best_fitness, best_state, solve_time, prob]\n",
    "                    for key in keyword_args:\n",
    "                        value = keyword_args[key]\n",
    "                        results.append(value)\n",
    "                    Opt_list.append(results)\n",
    "                    \n",
    "                    # iterate  \n",
    "                    i+=1\n",
    "\n",
    "    #save the results and export\n",
    "    resultsTable = pd.DataFrame(Opt_list)\n",
    "    \n",
    "    # rename the columns\n",
    "    colnames = ['Run_no', 'best_fitness', 'best_state', 'solve_time', 'problem']\n",
    "    for key in keyword_args:\n",
    "        colnames.append(key)\n",
    "    resultsTable.columns = colnames\n",
    "    #resultsTable = resultsTable.sort_values('best_fitness', ascending=False)\n",
    "    resultsTable.to_csv('./output/'+problem_name+'_'+algorithm+'.csv',index=False)\n",
    "    return Opt_list\n"
   ]
  },
  {
   "cell_type": "code",
   "execution_count": null,
   "metadata": {},
   "outputs": [],
   "source": [
    "paramdict = MIMIC_paramdict.copy()\n",
    "problem = problem2\n",
    "\n",
    "# get all the different combinations of parameters\n",
    "keys, values = zip(*paramdict.items())\n",
    "params = [dict(zip(keys, v)) for v in itertools.product(*values)]\n",
    "\n",
    "Opt_list = []\n",
    "i=0\n",
    "while i in range (0, len(params)):\n",
    "                prob = problem\n",
    "#                     attempts = params[i]['max_attempts']\n",
    "#                     iters = params[i]['max_iters']\n",
    "#                     restarts = params[i]['restarts']\n",
    "                #initial = params[i]['init_state']\n",
    "\n",
    "                keyword_args = params[i] \n",
    "\n",
    "                print('Now running experiment {} of {}...'.format(i,len(params)))\n",
    "\n",
    "                # Set random seed\n",
    "                np.random.seed(42) # bc 42 is the meaning of life\n",
    "\n",
    "                # start the clock - training\n",
    "                st = clock()\n",
    "\n",
    "#                 if algorithm=='RHC':\n",
    "#                     best_state, best_fitness = mlrose.random_hill_climb(**keyword_args, problem=prob)\n",
    "#                 if algorithm=='SA':\n",
    "#                     best_state, best_fitness = mlrose.simulated_annealing(**keyword_args, problem=prob)\n",
    "#                 if algorithm=='GA':\n",
    "#                     best_state, best_fitness = mlrose.genetic_alg(**keyword_args, problem=prob)\n",
    "#                 if algorithm=='MIMIC':\n",
    "                best_state, best_fitness = mlrose.mimic(**keyword_args, problem=prob)\n",
    "\n",
    "                # stop train time, save time elapsed\n",
    "                solve_time = clock()-st\n",
    "\n",
    "#                     print('Best State of experiment {} is {}'.format(i,best_state))\n",
    "#                     print('Best Fitness of experiment {} is {}'.format(i,best_fitness))\n",
    "                print('Time to solve = {}'.format(solve_time))\n",
    "                print('--------')\n",
    "\n",
    "                results = [i, best_fitness, best_state, solve_time, prob]\n",
    "                for key in keyword_args:\n",
    "                    value = keyword_args[key]\n",
    "                    results.append(value)\n",
    "                Opt_list.append(results)\n",
    "\n",
    "                # iterate  \n",
    "                i+=1\n",
    "\n",
    "\n",
    "\n"
   ]
  },
  {
   "cell_type": "code",
   "execution_count": null,
   "metadata": {},
   "outputs": [],
   "source": [
    "#save the results and export\n",
    "resultsTable = pd.DataFrame(Opt_list)\n",
    "\n",
    "# rename the columns\n",
    "colnames = ['Run_no', 'best_fitness', 'best_state', 'solve_time', 'problem']\n",
    "for key in keyword_args:\n",
    "    colnames.append(key)\n",
    "resultsTable.columns = colnames\n",
    "#resultsTable = resultsTable.sort_values('best_fitness', ascending=False)\n",
    "resultsTable.to_csv('./output/Problem3_'+algorithm+'.csv',index=False)\n",
    "#return Opt_list\n"
   ]
  },
  {
   "cell_type": "code",
   "execution_count": null,
   "metadata": {},
   "outputs": [],
   "source": [
    "run_experiments(algorithm ='RHC', problem=problem1, problem_name=\"problem1\")"
   ]
  },
  {
   "cell_type": "code",
   "execution_count": null,
   "metadata": {},
   "outputs": [],
   "source": [
    "run_experiments(algorithm ='SA', problem=problem1, problem_name=\"problem1\")"
   ]
  },
  {
   "cell_type": "code",
   "execution_count": null,
   "metadata": {},
   "outputs": [],
   "source": [
    "run_experiments(algorithm ='GA', problem=problem1, problem_name=\"problem1\")"
   ]
  },
  {
   "cell_type": "code",
   "execution_count": null,
   "metadata": {},
   "outputs": [],
   "source": [
    "run_experiments(algorithm ='MIMIC', problem=problem1, problem_name=\"problem1\")"
   ]
  },
  {
   "cell_type": "code",
   "execution_count": null,
   "metadata": {
    "collapsed": true
   },
   "outputs": [],
   "source": [
    "# PROBLEM 2 ========"
   ]
  },
  {
   "cell_type": "code",
   "execution_count": null,
   "metadata": {},
   "outputs": [],
   "source": [
    "run_experiments(algorithm ='RHC', problem=problem2, problem_name=\"problem2\")"
   ]
  },
  {
   "cell_type": "code",
   "execution_count": null,
   "metadata": {},
   "outputs": [],
   "source": [
    "run_experiments(algorithm ='SA', problem=problem2, problem_name=\"problem2\")"
   ]
  },
  {
   "cell_type": "code",
   "execution_count": null,
   "metadata": {},
   "outputs": [],
   "source": [
    "run_experiments(algorithm ='GA', problem=problem2, problem_name=\"problem2\")"
   ]
  },
  {
   "cell_type": "code",
   "execution_count": null,
   "metadata": {},
   "outputs": [],
   "source": [
    "run_experiments(algorithm ='MIMIC', problem=problem2, problem_name=\"problem2\")"
   ]
  },
  {
   "cell_type": "code",
   "execution_count": null,
   "metadata": {
    "collapsed": true
   },
   "outputs": [],
   "source": [
    "# PROBLEM 3 ========"
   ]
  },
  {
   "cell_type": "code",
   "execution_count": null,
   "metadata": {},
   "outputs": [],
   "source": [
    "run_experiments(algorithm ='RHC', problem=problem3, problem_name=\"problem3\")"
   ]
  },
  {
   "cell_type": "code",
   "execution_count": null,
   "metadata": {},
   "outputs": [],
   "source": [
    "run_experiments(algorithm ='SA', problem=problem3, problem_name=\"problem3\")"
   ]
  },
  {
   "cell_type": "code",
   "execution_count": null,
   "metadata": {},
   "outputs": [],
   "source": [
    "run_experiments(algorithm ='GA', problem=problem3, problem_name=\"problem3\")"
   ]
  },
  {
   "cell_type": "code",
   "execution_count": null,
   "metadata": {},
   "outputs": [],
   "source": [
    "run_experiments(algorithm ='MIMIC', problem=problem3, problem_name=\"problem3\")"
   ]
  },
  {
   "cell_type": "code",
   "execution_count": null,
   "metadata": {
    "collapsed": true
   },
   "outputs": [],
   "source": [
    "mimic_params = ['pop_size','max_attempts', 'max_iters', 'keep_pct']\n",
    "ga_params = ['pop_size','max_attempts', 'max_iters', 'mutation_prob']\n",
    "rhc_params = ['max_attempts', 'max_iters', 'restarts', 'initial']\n",
    "sa_params = ['schedule','attempts', 'max_iters', 'initial']"
   ]
  },
  {
   "cell_type": "code",
   "execution_count": null,
   "metadata": {
    "collapsed": true
   },
   "outputs": [],
   "source": [
    "import matplotlib.pyplot as plt\n",
    "import seaborn as sns\n",
    "from textwrap import wrap\n",
    "\n",
    "# style\n",
    "plt.style.use('seaborn-darkgrid')\n",
    "# create a color palette\n",
    "palette = plt.get_cmap('Set1')\n",
    "\n",
    "\n",
    "\n",
    "def param_scatterplots(algorithm, problem_number ):\n",
    "    \n",
    "    mimic_params = ['pop_size','max_attempts', 'max_iters', 'keep_pct']\n",
    "    ga_params = ['pop_size','max_attempts', 'max_iters', 'mutation_prob']\n",
    "    rhc_params = ['max_attempts', 'max_iters', 'restarts'] #, 'initial']\n",
    "    sa_params = ['schedule','max_attempts', 'max_iters']# , 'initial']\n",
    "    \n",
    "    mimic_axis = ['Population Size','Max Number of Attempts', 'Max Iterations', 'Percentage Kept']\n",
    "    ga_axis = ['Population Size','Max Number of Attempts', 'Max Iterations', 'Mutation Probability']\n",
    "    rhc_axis = ['Max Number of Attempts', 'Max Iterations', 'Number of Restarts', 'Initial Value']\n",
    "    sa_axis = ['Decay Schedule','Max Number of Attempts', 'Max Iterations', 'Initial Value']\n",
    "    \n",
    "    if algorithm == 'MIMIC':\n",
    "        params = mimic_params \n",
    "        axis = mimic_axis\n",
    "    if algorithm == 'GA':\n",
    "        params = ga_params\n",
    "        axis = ga_axis\n",
    "    if algorithm == 'RHC':\n",
    "        params = rhc_params \n",
    "        axis = rhc_axis\n",
    "    if algorithm == 'SA':\n",
    "        params = sa_params \n",
    "        axis= sa_axis\n",
    "    \n",
    "    for i in range(0, len(params)):\n",
    "            param = params[i]\n",
    "            # get the data\n",
    "            file = './output/problem'+str(problem_number)+'_'+algorithm+'.csv'\n",
    "            #Part2_Prob1_GA\n",
    "            reg = pd.read_csv (file, sep =\",\")\n",
    "            \n",
    "            # Use the 'hue' argument to provide a factor variable\n",
    "            sns.lmplot( x=\"solve_time\", y=\"best_fitness\", data=reg, fit_reg=False, hue=param, \n",
    "                       legend=False)\n",
    " \n",
    "            # Move the legend to an empty part of the plot\n",
    "            #plt.legend(loc='lower right')\n",
    "            plt.title(algorithm+' Algorithm: Problem '+str(problem_number)+'\\n Solve Time & Fitness Score by '+axis[i], loc='center', fontsize=12, fontweight=0, color='darkblue')\n",
    "            plt.xlabel('Time to Reach Best Fitness Score')\n",
    "            plt.ylabel('Best Fitness Score')\n",
    "            #plt.ylim(ymax = .9, ymin =0)\n",
    "            plt.legend(loc='best', ncol=2, frameon=True) #, framealpha=2.0)\n",
    "            plt.xticks(rotation=0)\n",
    "            plt.savefig('./images/Problem'+str(problem_number)+'_'+algorithm+'_scatt_timeVS'+param+'.png')\n",
    "            plt.show()\n",
    "            #plt.close()\n",
    "            i+=1\n",
    "    "
   ]
  },
  {
   "cell_type": "code",
   "execution_count": null,
   "metadata": {},
   "outputs": [],
   "source": [
    "param_scatterplots(algorithm='SA', problem_number=3 )"
   ]
  },
  {
   "cell_type": "code",
   "execution_count": null,
   "metadata": {
    "collapsed": true,
    "scrolled": true
   },
   "outputs": [],
   "source": [
    "def param_barcharts(algorithm, problem_number ):\n",
    "    \n",
    "    mimic_params = ['pop_size','max_attempts', 'max_iters', 'keep_pct']\n",
    "    ga_params = ['pop_size','max_attempts', 'max_iters', 'mutation_prob']\n",
    "    rhc_params = ['max_attempts', 'max_iters', 'restarts']#, 'initial']\n",
    "    sa_params = ['schedule','max_attempts', 'max_iters'] #, 'initial']\n",
    "\n",
    "    mimic_axis = ['Population Size','Max Number of Attempts', 'Max Iterations', 'Percentage Kept']\n",
    "    ga_axis = ['Population Size','Max Number of Attempts', 'Max Iterations', 'Mutation Probability']\n",
    "    rhc_axis = ['Max Number of Attempts', 'Max Iterations', 'Number of Restarts'] #, 'Initial Value']\n",
    "    sa_axis = ['Decay Schedule','Max Number of Attempts', 'Max Iterations' ]#, 'Initial Value']\n",
    "\n",
    "    if algorithm == 'MIMIC':\n",
    "        params = mimic_params\n",
    "        axis = mimic_axis\n",
    "        barcolor = 'darkblue'\n",
    "        alg = \"MIMIC\"\n",
    "    if algorithm == 'GA':\n",
    "        params = ga_params\n",
    "        axis = ga_axis\n",
    "        barcolor = 'green'\n",
    "        alg = 'Genetic'\n",
    "    if algorithm == 'RHC':\n",
    "        params = rhc_params\n",
    "        axis = rhc_axis\n",
    "        barcolor = 'tomato'\n",
    "        alg = 'Random Hill Climbing'\n",
    "    if algorithm == 'SA':\n",
    "        params = sa_params\n",
    "        axis= sa_axis\n",
    "        barcolor = 'goldenrod'\n",
    "        alg = 'Simulated Annealing'\n",
    "\n",
    "    for i in range(0, len(params)):\n",
    "                param = params[i]\n",
    "                # get the data\n",
    "                file = './output/problem'+str(problem_number)+'_'+algorithm+'.csv'\n",
    "                #Part2_Prob1_GA\n",
    "                res = pd.read_csv (file, sep =\",\")\n",
    "                res[param] = res[param].astype('category')\n",
    "                res_byparam = res.groupby([param])['best_fitness'].mean()\n",
    "                #figure(1)\n",
    "\n",
    "                res_byparam.plot.bar(color=barcolor, edgecolor='black')\n",
    "                # Move the legend to an empty part of the plot\n",
    "                #plt.legend(loc='lower right')\n",
    "                plt.title(alg+' Algorithm, Problem '+str(problem_number)+' \\nFitness Score by '+axis[i], loc='center', fontsize=12, fontweight=0, color='darkblue')\n",
    "                plt.xlabel(axis[i])\n",
    "                plt.ylabel('Average Fitness Score')\n",
    "                #plt.ylim(ymax = 36, ymin =30)\n",
    "                plt.legend(loc='best', ncol=2, frameon=True) #, framealpha=2.0)\n",
    "                plt.xticks(rotation=0)\n",
    "                plt.savefig('./images/'+algorithm+'_bar_fitnessVS'+param+'.png')\n",
    "                plt.show()\n",
    "                #plt.close()\n",
    "                i+=1\n",
    "\n",
    "    \n",
    "    \n"
   ]
  },
  {
   "cell_type": "code",
   "execution_count": null,
   "metadata": {
    "scrolled": true
   },
   "outputs": [],
   "source": [
    "param_barcharts(algorithm=\"GA\", problem_number=1 )"
   ]
  },
  {
   "cell_type": "code",
   "execution_count": null,
   "metadata": {},
   "outputs": [],
   "source": [
    "param_barcharts(algorithm=\"SA\", problem_number=1 )"
   ]
  },
  {
   "cell_type": "code",
   "execution_count": null,
   "metadata": {},
   "outputs": [],
   "source": [
    "param_barcharts(algorithm=\"MIMIC\", problem_number=1 )"
   ]
  },
  {
   "cell_type": "code",
   "execution_count": null,
   "metadata": {},
   "outputs": [],
   "source": [
    "param_barcharts(algorithm=\"RHC\", problem_number=1 )"
   ]
  }
 ],
 "metadata": {
  "kernelspec": {
   "display_name": "Python 3",
   "language": "python",
   "name": "python3"
  },
  "language_info": {
   "codemirror_mode": {
    "name": "ipython",
    "version": 3
   },
   "file_extension": ".py",
   "mimetype": "text/x-python",
   "name": "python",
   "nbconvert_exporter": "python",
   "pygments_lexer": "ipython3",
   "version": "3.6.2"
  }
 },
 "nbformat": 4,
 "nbformat_minor": 2
}
