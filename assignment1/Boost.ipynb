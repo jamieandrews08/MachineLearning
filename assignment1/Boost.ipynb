{
 "cells": [
  {
   "cell_type": "code",
   "execution_count": null,
   "metadata": {
    "collapsed": true
   },
   "outputs": [],
   "source": [
    "# -*- coding: utf-8 -*-\n",
    "\"\"\"\n",
    "Created on Fri Jan 20 14:23:40 2017\n",
    "@author: JTay\n",
    "\"\"\"\n",
    "\n",
    "import sklearn.model_selection as ms\n",
    "from sklearn.ensemble import AdaBoostClassifier\n",
    "#from helper import dtclf_pruned\n",
    "import helper\n",
    "from helperimport  basicResults_credit, basicResults_wine, makeTimingCurve,iterationLC_wine, iterationLC_credit\n",
    "from sklearn.ensemble import RandomForestClassifier\n",
    "from sklearn.feature_selection import SelectFromModel\n",
    "from sklearn.pipeline import Pipeline\n",
    "from sklearn.preprocessing import StandardScaler\n"
   ]
  },
  {
   "cell_type": "code",
   "execution_count": null,
   "metadata": {
    "collapsed": true
   },
   "outputs": [],
   "source": [
    "# GET THE DATA ============\n",
    "# wine data\n",
    "file_path =\"./data/\"\n",
    "wine = pd.read_csv (file_path+'wines.csv', sep =\",\")\n",
    "# credit data\n",
    "file_path2 =\"./data/\"\n",
    "credit = pd.read_csv (file_path2+'credit.csv', sep =\",\")\n",
    "\n",
    "# Break out predicting and target variable data    \n",
    "wineX = wine.drop('quality',1).copy().values\n",
    "wineY = wine['quality'].copy().values\n",
    "\n",
    "creditX = credit.drop('default',1).copy().values\n",
    "creditY = credit['default'].copy().values\n",
    "\n"
   ]
  },
  {
   "cell_type": "code",
   "execution_count": null,
   "metadata": {
    "collapsed": true
   },
   "outputs": [],
   "source": [
    "#check the data\n",
    "creditX.shape, creditY.shape, wineX.shape, wineY.shape"
   ]
  },
  {
   "cell_type": "code",
   "execution_count": null,
   "metadata": {
    "collapsed": true
   },
   "outputs": [],
   "source": [
    "# DIVIDE INTO TRAIN AND TEST SETS  \n",
    "wine_trgX, wine_tstX, wine_trgY, wine_tstY = ms.train_test_split(\n",
    "    wineX, wineY, test_size=0.3, random_state=0,stratify=wineY)     \n",
    "\n",
    "credit_trgX, credit_tstX, credit_trgY, credit_tstY = ms.train_test_split(\n",
    "    creditX, creditY, test_size=0.3, random_state=0,stratify=creditY)   \n"
   ]
  },
  {
   "cell_type": "code",
   "execution_count": null,
   "metadata": {
    "collapsed": true
   },
   "outputs": [],
   "source": [
    "# alphas to try\n",
    "\n",
    "alphas = [-1,-1e-3,-(1e-3)*10**-0.5, -1e-2, -(1e-2)*10**-0.5,-1e-1,-(1e-1)*10**-0.5, 0, (1e-1)*10**-0.5,1e-1,(1e-2)*10**-0.5,1e-2,(1e-3)*10**-0.5,1e-3]\n"
   ]
  },
  {
   "cell_type": "code",
   "execution_count": null,
   "metadata": {
    "collapsed": true
   },
   "outputs": [],
   "source": [
    "# define base paramters for base decision tree\n",
    "wine_base = dtclf_pruned(criterion='gini',class_weight='balanced',random_state=55)                \n",
    "credit_base = dtclf_pruned(criterion='entropy',class_weight='balanced',random_state=55)\n",
    "OF_base = dtclf_pruned(criterion='gini',class_weight='balanced',random_state=55)     "
   ]
  },
  {
   "cell_type": "code",
   "execution_count": null,
   "metadata": {
    "collapsed": true
   },
   "outputs": [],
   "source": [
    "# define parameters\n",
    "\n",
    "#paramsC= {'Boost__n_estimators':[1,2,5,10,20,30,40,50],'Boost__learning_rate':[(2**x)/100 for x in range(8)]+[1]}\n",
    "paramsC= {'Boost__n_estimators':[1,2,5,10,20,30,45,60,80,100],\n",
    "          'Boost__base_estimator__alpha':alphas}\n",
    "#paramsW = {'Boost__n_estimators':[1,2,5,10,20,30,40,50,60,70,80,90,100],\n",
    "#           'Boost__learning_rate':[(2**x)/100 for x in range(8)]+[1]}\n",
    "\n",
    "paramsW = {'Boost__n_estimators':[1,2,5,10,20,30,45,60,80,100],\n",
    "           'Boost__base_estimator__alpha':alphas}"
   ]
  },
  {
   "cell_type": "code",
   "execution_count": null,
   "metadata": {
    "collapsed": true
   },
   "outputs": [],
   "source": [
    "# define booster fuctions and associated paramters\n",
    "wine_booster = AdaBoostClassifier(algorithm='SAMME',learning_rate=1,base_estimator=wine_base,random_state=55)\n",
    "credit_booster = AdaBoostClassifier(algorithm='SAMME',learning_rate=1,base_estimator=credit_base,random_state=55)\n",
    "OF_booster = AdaBoostClassifier(algorithm='SAMME',learning_rate=1,base_estimator=OF_base,random_state=55)\n"
   ]
  },
  {
   "cell_type": "code",
   "execution_count": null,
   "metadata": {
    "collapsed": true
   },
   "outputs": [],
   "source": [
    "# define the pipelines   \n",
    "pipeW = Pipeline([('Scale',StandardScaler()),\n",
    "                  # not doing feature selection\n",
    "#                  ('Cull1',SelectFromModel(RandomForestClassifier(random_state=1),threshold='median')),\n",
    "#                  ('Cull2',SelectFromModel(RandomForestClassifier(random_state=2),threshold='median')),\n",
    "#                  ('Cull3',SelectFromModel(RandomForestClassifier(random_state=3),threshold='median')),\n",
    "#                  ('Cull4',SelectFromModel(RandomForestClassifier(random_state=4),threshold='median')),\n",
    "                 ('Boost',wine_booster)])\n",
    "\n",
    "pipeC = Pipeline([('Scale',StandardScaler()),                \n",
    "                 ('Boost',credit_booster)])\n"
   ]
  },
  {
   "cell_type": "code",
   "execution_count": null,
   "metadata": {
    "collapsed": true
   },
   "outputs": [],
   "source": [
    "# define basic results functions and variables\n",
    "wine_clf = basicResults_wine(pipeW,wine_trgX,wine_trgY,wine_tstX,wine_tstY,paramsW,'Boost','wine')        \n",
    "credit_clf = basicResults_credit(pipeC,credit_trgX,credit_trgY,credit_tstX,credit_tstY,paramsC,'Boost','credit')        \n"
   ]
  },
  {
   "cell_type": "code",
   "execution_count": null,
   "metadata": {},
   "outputs": [],
   "source": [
    "# get the best paramters\n",
    "wine_final_params = wine_clf.best_params_\n",
    "credit_final_params = credit_clf.best_params_\n",
    "print(wine_final_params, credit_final_params)"
   ]
  },
  {
   "cell_type": "code",
   "execution_count": null,
   "metadata": {
    "collapsed": true
   },
   "outputs": [],
   "source": [
    "#wine_final_params = {'n_estimators': 20, 'learning_rate': 0.02}\n",
    "#credit_final_params = {'n_estimators': 10, 'learning_rate': 1}\n",
    "#OF_params = {'learning_rate':1}\n",
    "\n",
    "# define OF paramters\n",
    "OF_params = {'Boost__base_estimator__alpha':0.01, 'Boost__n_estimators':50}\n",
    "\n"
   ]
  },
  {
   "cell_type": "code",
   "execution_count": null,
   "metadata": {
    "collapsed": true
   },
   "outputs": [],
   "source": [
    "# timing curve - wine\n",
    "pipeW.set_params(**wine_final_params)\n",
    "makeTimingCurve(wineX,wineY,pipeW,'Boost','wine')"
   ]
  },
  {
   "cell_type": "code",
   "execution_count": null,
   "metadata": {
    "collapsed": true
   },
   "outputs": [],
   "source": [
    "# timing curve - credit\n",
    "pipeC.set_params(**credit_final_params)\n",
    "makeTimingCurve(creditX,creditY,pipeC,'Boost','credit')"
   ]
  },
  {
   "cell_type": "code",
   "execution_count": null,
   "metadata": {
    "collapsed": true
   },
   "outputs": [],
   "source": [
    "# learning curve for wine\n",
    "pipeW.set_params(**wine_final_params)\n",
    "iterationLC_wine(pipeW,wine_trgX,wine_trgY,wine_tstX,wine_tstY,\n",
    "    {'Boost__n_estimators':[1,2,5,10,20,30,40,50,60,70,80,90,100]},'Boost','wine')"
   ]
  },
  {
   "cell_type": "code",
   "execution_count": null,
   "metadata": {
    "collapsed": true
   },
   "outputs": [],
   "source": [
    "# learning curve for credit\n",
    "pipeC.set_params(**credit_final_params)\n",
    "iterationLC_credit(pipeC,credit_trgX,credit_trgY,credit_tstX,credit_tstY,\n",
    "    {'Boost__n_estimators':[1,2,5,10,20,30,40,50]},'Boost','credit')                "
   ]
  },
  {
   "cell_type": "code",
   "execution_count": null,
   "metadata": {
    "collapsed": true
   },
   "outputs": [],
   "source": [
    "# learning boost OF - wine\n",
    "pipeW.set_params(**OF_params)\n",
    "iterationLC_wine(pipeW,wine_trgX,wine_trgY,wine_tstX,wine_tstY,\n",
    "    {'Boost__n_estimators':[1,2,5,10,20,30,40,50,60,70,80,90,100]},'Boost_OF','wine')                "
   ]
  },
  {
   "cell_type": "code",
   "execution_count": null,
   "metadata": {
    "collapsed": true
   },
   "outputs": [],
   "source": [
    "# learning curve boost OF - credit\n",
    "pipeC.set_params(**OF_params)\n",
    "iterationLC_credit(pipeC,credit_trgX,credit_trgY,credit_tstX,credit_tstY,\n",
    "    {'Boost__n_estimators':[1,2,5,10,20,30,40,50]},'Boost_OF','credit')                \n"
   ]
  },
  {
   "cell_type": "code",
   "execution_count": null,
   "metadata": {
    "collapsed": true
   },
   "outputs": [],
   "source": []
  }
 ],
 "metadata": {
  "kernelspec": {
   "display_name": "Python 3",
   "language": "python",
   "name": "python3"
  },
  "language_info": {
   "codemirror_mode": {
    "name": "ipython",
    "version": 3
   },
   "file_extension": ".py",
   "mimetype": "text/x-python",
   "name": "python",
   "nbconvert_exporter": "python",
   "pygments_lexer": "ipython3",
   "version": "3.6.2"
  }
 },
 "nbformat": 4,
 "nbformat_minor": 2
}
